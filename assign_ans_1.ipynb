{
 "cells": [
  {
   "cell_type": "markdown",
   "id": "75b7bd0d",
   "metadata": {},
   "source": [
    "### Image Smilarity"
   ]
  },
  {
   "cell_type": "markdown",
   "id": "0aafdd8e",
   "metadata": {},
   "source": [
    "###### With SIFT"
   ]
  },
  {
   "cell_type": "code",
   "execution_count": 1,
   "id": "b1bdbd0d",
   "metadata": {},
   "outputs": [],
   "source": [
    "from fastapi import FastAPI, File, UploadFile\n",
    "import uvicorn\n",
    "import cv2\n",
    "import wget\n",
    "import nest_asyncio"
   ]
  },
  {
   "cell_type": "code",
   "execution_count": 2,
   "id": "4b147035",
   "metadata": {},
   "outputs": [],
   "source": [
    "#we are not using Hamming-distance as matcher with sift because works only for binary feature-types like ORB and \n",
    "#SIFT return a detectorType() of CV32F (=float)\n",
    "\n",
    "def sift_with_flann(img1, img2):\n",
    "    img1 = cv2.cvtColor(img1, cv2.IMREAD_GRAYSCALE)\n",
    "    img2 = cv2.cvtColor(img2, cv2.IMREAD_GRAYSCALE)\n",
    "    sift = cv2.xfeatures2d.SIFT_create()\n",
    "    kp_1, desc_1 = sift.detectAndCompute(img1, None)\n",
    "    kp_2, desc_2 = sift.detectAndCompute(img2, None)\n",
    "    index_params = dict(algorithm=0, trees=5)\n",
    "    search_params = dict(checks=100)\n",
    "    flann = cv2.FlannBasedMatcher(index_params, search_params)\n",
    "    matches = flann.knnMatch(desc_1, desc_2, k=2)\n",
    "    good_points = []\n",
    "    ratio = .7\n",
    "    for m, n in matches:\n",
    "        if m.distance < ratio*n.distance:\n",
    "            good_points.append(m)\n",
    "    return len(good_points) / len(matches)"
   ]
  },
  {
   "cell_type": "code",
   "execution_count": 3,
   "id": "75138bda",
   "metadata": {},
   "outputs": [],
   "source": [
    "def sift_with_bf(img1, img2):\n",
    "    img1 = cv2.cvtColor(img1, cv2.IMREAD_GRAYSCALE)\n",
    "    img2 = cv2.cvtColor(img2, cv2.IMREAD_GRAYSCALE)\n",
    "    sift = cv2.xfeatures2d.SIFT_create()\n",
    "    kp_1, desc_1 = sift.detectAndCompute(img1, None)\n",
    "    kp_2, desc_2 = sift.detectAndCompute(img2, None)\n",
    "    bf = cv2.BFMatcher()\n",
    "    matches = bf.knnMatch(desc_1,desc_2,k=2)\n",
    "    # Apply ratio test\n",
    "    good_points = []\n",
    "    for m,n in matches:\n",
    "        if m.distance < 0.75*n.distance:\n",
    "            good_points.append([m])\n",
    "    return len(good_points) / len(matches)"
   ]
  },
  {
   "cell_type": "code",
   "execution_count": 4,
   "id": "6b6af600",
   "metadata": {},
   "outputs": [],
   "source": [
    "img111 = cv2.imread('img111.jpg')\n",
    "img222 = cv2.imread('img222.jpg')"
   ]
  },
  {
   "cell_type": "code",
   "execution_count": 5,
   "id": "eadabdce",
   "metadata": {},
   "outputs": [
    {
     "data": {
      "text/plain": [
       "0.34971726837755546"
      ]
     },
     "execution_count": 5,
     "metadata": {},
     "output_type": "execute_result"
    }
   ],
   "source": [
    "sift_with_flann(img111,img222)"
   ]
  },
  {
   "cell_type": "code",
   "execution_count": 6,
   "id": "7a4428e7",
   "metadata": {},
   "outputs": [
    {
     "data": {
      "text/plain": [
       "0.3688560243584167"
      ]
     },
     "execution_count": 6,
     "metadata": {},
     "output_type": "execute_result"
    }
   ],
   "source": [
    "sift_with_bf(img111,img222)"
   ]
  },
  {
   "cell_type": "markdown",
   "id": "20ffdd7a",
   "metadata": {},
   "source": [
    "###### ORB"
   ]
  },
  {
   "cell_type": "code",
   "execution_count": 7,
   "id": "ac6d9308",
   "metadata": {},
   "outputs": [],
   "source": [
    "def orb_bf(img1, img2):\n",
    "    img1 = cv2.imread(img1)\n",
    "    img2 = cv2.imread(img2)\n",
    "    img1 = cv2.cvtColor(img1, cv2.IMREAD_GRAYSCALE)\n",
    "    img2 = cv2.cvtColor(img2, cv2.IMREAD_GRAYSCALE)\n",
    "    orb = cv2.ORB_create()\n",
    "    kp_a, desc_a = orb.detectAndCompute(img1, None)\n",
    "    kp_b, desc_b = orb.detectAndCompute(img2, None)\n",
    "    bf = cv2.BFMatcher(cv2.NORM_HAMMING, crossCheck=True) \n",
    "    matches = bf.match(desc_a, desc_b)\n",
    "    #Look for similar regions with distance < 30, as we would increase its value it precision would go down. \n",
    "    similar_regions = [i for i in matches if i.distance < 50]  \n",
    "    if len(matches) == 0:\n",
    "        return 0\n",
    "    return len(similar_regions) / len(matches)"
   ]
  },
  {
   "cell_type": "markdown",
   "id": "a8d53cef",
   "metadata": {},
   "source": [
    "###### Have created the api based on orb one"
   ]
  },
  {
   "cell_type": "code",
   "execution_count": 8,
   "id": "f6d97c87",
   "metadata": {},
   "outputs": [],
   "source": [
    "app = FastAPI(\n",
    "    title=\"Image Similarity API\",\n",
    "    description=\"A simple API that would return image similarity\",\n",
    "    version=\"0.1\",\n",
    ")"
   ]
  },
  {
   "cell_type": "code",
   "execution_count": 9,
   "id": "6b36bb44",
   "metadata": {},
   "outputs": [],
   "source": [
    "#@app.get(\"/compare\")\n",
    "@app.post(\"/compare_upload\")\n",
    "async def compare_images_upload(img1: UploadFile,img2: UploadFile):\n",
    "    similarity=orb_bf(img1.filename,img2.filename)\n",
    "    similarity_percentage = round((similarity*100),2)\n",
    "    return similarity_percentage"
   ]
  },
  {
   "cell_type": "code",
   "execution_count": 10,
   "id": "0d588a14",
   "metadata": {},
   "outputs": [],
   "source": [
    "#@app.get(\"/compare\")\n",
    "@app.post(\"/compare_url\")\n",
    "async def compare_images_url(img1Url: str,img2Url: str):\n",
    "    filename1 = wget.download(img1Url)\n",
    "    filename2 = wget.download(img2Url)\n",
    "    similarity=orb_bf(filename1,filename2)\n",
    "    similarity_percentage = round((similarity*100),2)\n",
    "    return similarity_percentage"
   ]
  },
  {
   "cell_type": "code",
   "execution_count": 11,
   "id": "d83e9f8d",
   "metadata": {},
   "outputs": [],
   "source": [
    "nest_asyncio.apply()"
   ]
  },
  {
   "cell_type": "code",
   "execution_count": null,
   "id": "27ff18ee",
   "metadata": {},
   "outputs": [
    {
     "name": "stderr",
     "output_type": "stream",
     "text": [
      "INFO:     Started server process [9100]\n",
      "INFO:     Waiting for application startup.\n",
      "INFO:     Application startup complete.\n",
      "INFO:     Uvicorn running on http://127.0.0.1:8080 (Press CTRL+C to quit)\n"
     ]
    },
    {
     "name": "stdout",
     "output_type": "stream",
     "text": [
      "INFO:     127.0.0.1:61170 - \"GET / HTTP/1.1\" 404 Not Found\n",
      "INFO:     127.0.0.1:61170 - \"GET /docs HTTP/1.1\" 200 OK\n",
      "INFO:     127.0.0.1:61170 - \"GET /openapi.json HTTP/1.1\" 200 OK\n",
      "INFO:     127.0.0.1:61171 - \"POST /compare_upload HTTP/1.1\" 200 OK\n",
      "100% [............................................................................] 184294 / 184294INFO:     127.0.0.1:61189 - \"POST /compare_url?img1Url=https%3A%2F%2Fi.ibb.co%2FdJBHXy9%2Fimg111.jpg&img2Url=https%3A%2F%2Fi.ibb.co%2Fr4SRMXG%2Fimg222.jpg HTTP/1.1\" 200 OK\n",
      "100% [............................................................................] 226730 / 226730INFO:     127.0.0.1:61230 - \"POST /compare_url?img1Url=https%3A%2F%2Fi.ibb.co%2FdJBHXy9%2Fimg111.jpg&img2Url=https%3A%2F%2Fi.ibb.co%2FdJBHXy9%2Fimg111.jpg HTTP/1.1\" 200 OK\n"
     ]
    }
   ],
   "source": [
    "if __name__ == \"__main__\":\n",
    "    uvicorn.run(app, host=\"127.0.0.1\", port=8080, debug=True)"
   ]
  }
 ],
 "metadata": {
  "kernelspec": {
   "display_name": "Python 3",
   "language": "python",
   "name": "python3"
  },
  "language_info": {
   "codemirror_mode": {
    "name": "ipython",
    "version": 3
   },
   "file_extension": ".py",
   "mimetype": "text/x-python",
   "name": "python",
   "nbconvert_exporter": "python",
   "pygments_lexer": "ipython3",
   "version": "3.8.8"
  }
 },
 "nbformat": 4,
 "nbformat_minor": 5
}
