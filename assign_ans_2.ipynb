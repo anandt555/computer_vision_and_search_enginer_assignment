{
 "cells": [
  {
   "cell_type": "code",
   "execution_count": 1,
   "metadata": {
    "execution": {
     "iopub.execute_input": "2022-09-15T09:34:07.164102Z",
     "iopub.status.busy": "2022-09-15T09:34:07.163354Z",
     "iopub.status.idle": "2022-09-15T09:34:09.559229Z",
     "shell.execute_reply": "2022-09-15T09:34:09.557674Z",
     "shell.execute_reply.started": "2022-09-15T09:34:07.164048Z"
    }
   },
   "outputs": [],
   "source": [
    "import numpy as np\n",
    "import pandas as pd\n",
    "import spacy\n",
    "import string\n",
    "import gensim\n",
    "import operator\n",
    "import re\n",
    "from spacy.lang.en.stop_words import STOP_WORDS\n",
    "from nltk.tokenize import word_tokenize\n",
    "from gensim import corpora\n",
    "from gensim.similarities import MatrixSimilarity\n",
    "from operator import itemgetter\n",
    "from fastapi import FastAPI\n",
    "import nest_asyncio\n",
    "import uvicorn"
   ]
  },
  {
   "cell_type": "markdown",
   "metadata": {},
   "source": [
    "##### Load the data"
   ]
  },
  {
   "cell_type": "code",
   "execution_count": 2,
   "metadata": {
    "_cell_guid": "79c7e3d0-c299-4dcb-8224-4455121ee9b0",
    "_uuid": "d629ff2d2480ee46fbb7e2d37f6b5fab8052498a",
    "execution": {
     "iopub.execute_input": "2022-09-15T09:34:09.563270Z",
     "iopub.status.busy": "2022-09-15T09:34:09.561805Z",
     "iopub.status.idle": "2022-09-15T09:34:09.662275Z",
     "shell.execute_reply": "2022-09-15T09:34:09.661122Z",
     "shell.execute_reply.started": "2022-09-15T09:34:09.563172Z"
    }
   },
   "outputs": [
    {
     "data": {
      "text/html": [
       "<div>\n",
       "<style scoped>\n",
       "    .dataframe tbody tr th:only-of-type {\n",
       "        vertical-align: middle;\n",
       "    }\n",
       "\n",
       "    .dataframe tbody tr th {\n",
       "        vertical-align: top;\n",
       "    }\n",
       "\n",
       "    .dataframe thead th {\n",
       "        text-align: right;\n",
       "    }\n",
       "</style>\n",
       "<table border=\"1\" class=\"dataframe\">\n",
       "  <thead>\n",
       "    <tr style=\"text-align: right;\">\n",
       "      <th></th>\n",
       "      <th>uid</th>\n",
       "      <th>text</th>\n",
       "    </tr>\n",
       "  </thead>\n",
       "  <tbody>\n",
       "    <tr>\n",
       "      <th>0</th>\n",
       "      <td>0103050P0AAAFAF</td>\n",
       "      <td>Omeprazole_Cap E/C 10mg</td>\n",
       "    </tr>\n",
       "    <tr>\n",
       "      <th>1</th>\n",
       "      <td>20030100167</td>\n",
       "      <td>Dressit Ster Dress Pack</td>\n",
       "    </tr>\n",
       "    <tr>\n",
       "      <th>2</th>\n",
       "      <td>20031700015</td>\n",
       "      <td>Flaminal Forte 15g Tube Wound Dress Prot</td>\n",
       "    </tr>\n",
       "    <tr>\n",
       "      <th>3</th>\n",
       "      <td>0101010G0AAABAB</td>\n",
       "      <td>Co-Magaldrox_Susp 195mg/220mg/5ml S/F</td>\n",
       "    </tr>\n",
       "    <tr>\n",
       "      <th>4</th>\n",
       "      <td>0101010N0AAAAAA</td>\n",
       "      <td>Antacid/Oxetacaine_Oral Susp S/F</td>\n",
       "    </tr>\n",
       "    <tr>\n",
       "      <th>5</th>\n",
       "      <td>0101010R0AAABAB</td>\n",
       "      <td>Simeticone_Susp 40mg/ml S/F</td>\n",
       "    </tr>\n",
       "    <tr>\n",
       "      <th>6</th>\n",
       "      <td>0101010R0BCAAAB</td>\n",
       "      <td>Infacol_Susp 40mg/ml S/F</td>\n",
       "    </tr>\n",
       "    <tr>\n",
       "      <th>7</th>\n",
       "      <td>0101021B0AAAHAH</td>\n",
       "      <td>Gppe Liq_Gaviscon S/F</td>\n",
       "    </tr>\n",
       "    <tr>\n",
       "      <th>8</th>\n",
       "      <td>0101021B0AAALAL</td>\n",
       "      <td>Sod Algin/Pot Bicarb_Susp S/F</td>\n",
       "    </tr>\n",
       "    <tr>\n",
       "      <th>9</th>\n",
       "      <td>0101021B0AAAPAP</td>\n",
       "      <td>Sod Alginate/Pot Bicarb_Tab Chble 500mg</td>\n",
       "    </tr>\n",
       "  </tbody>\n",
       "</table>\n",
       "</div>"
      ],
      "text/plain": [
       "               uid                                      text\n",
       "0  0103050P0AAAFAF                   Omeprazole_Cap E/C 10mg\n",
       "1      20030100167                   Dressit Ster Dress Pack\n",
       "2      20031700015  Flaminal Forte 15g Tube Wound Dress Prot\n",
       "3  0101010G0AAABAB     Co-Magaldrox_Susp 195mg/220mg/5ml S/F\n",
       "4  0101010N0AAAAAA          Antacid/Oxetacaine_Oral Susp S/F\n",
       "5  0101010R0AAABAB               Simeticone_Susp 40mg/ml S/F\n",
       "6  0101010R0BCAAAB                  Infacol_Susp 40mg/ml S/F\n",
       "7  0101021B0AAAHAH                     Gppe Liq_Gaviscon S/F\n",
       "8  0101021B0AAALAL             Sod Algin/Pot Bicarb_Susp S/F\n",
       "9  0101021B0AAAPAP   Sod Alginate/Pot Bicarb_Tab Chble 500mg"
      ]
     },
     "execution_count": 2,
     "metadata": {},
     "output_type": "execute_result"
    }
   ],
   "source": [
    "df_drugs = pd.read_json('drug_corpus.json')\n",
    "df_drugs.head(10)"
   ]
  },
  {
   "cell_type": "markdown",
   "metadata": {},
   "source": [
    "##### Data Cleaning and Pre-processing"
   ]
  },
  {
   "cell_type": "code",
   "execution_count": 3,
   "metadata": {
    "execution": {
     "iopub.execute_input": "2022-09-15T09:34:09.665262Z",
     "iopub.status.busy": "2022-09-15T09:34:09.664362Z",
     "iopub.status.idle": "2022-09-15T09:34:10.702857Z",
     "shell.execute_reply": "2022-09-15T09:34:10.701634Z",
     "shell.execute_reply.started": "2022-09-15T09:34:09.665207Z"
    }
   },
   "outputs": [
    {
     "name": "stderr",
     "output_type": "stream",
     "text": [
      "C:\\Users\\anand.tiwari\\Anaconda3\\lib\\site-packages\\spacy\\util.py:865: UserWarning: [W095] Model 'en_core_web_sm' (3.2.0) was trained with spaCy v3.2 and may not be 100% compatible with the current version (3.4.1). If you see errors or degraded performance, download a newer compatible model or retrain your custom model with the current spaCy version. For more details and available updates, run: python -m spacy validate\n",
      "  warnings.warn(warn_msg)\n"
     ]
    }
   ],
   "source": [
    "spacy_nlp = spacy.load('en_core_web_sm')\n",
    "\n",
    "#create list of punctuations and stopwords\n",
    "punctuations = string.punctuation\n",
    "stop_words = spacy.lang.en.stop_words.STOP_WORDS\n",
    "\n",
    "#function for data cleaning and processing\n",
    "#This can be further enhanced by adding / removing reg-exps as desired.\n",
    "\n",
    "def tokenizer_spacy(sentence):\n",
    " \n",
    "    #remove distracting single quotes\n",
    "    sentence = re.sub('\\'','',sentence)\n",
    "\n",
    "    #remove digits adnd words containing digits\n",
    "    sentence = re.sub('\\w*\\d\\w*','',sentence)\n",
    "\n",
    "    #replace extra spaces with single space\n",
    "    sentence = re.sub(' +',' ',sentence)\n",
    "\n",
    "    #remove unwanted lines starting from special charcters\n",
    "    sentence = re.sub(r'\\n: \\'\\'.*','',sentence)\n",
    "    sentence = re.sub(r'\\n!.*','',sentence)\n",
    "    sentence = re.sub(r'^:\\'\\'.*','',sentence)\n",
    "    \n",
    "    #remove non-breaking new line characters\n",
    "    sentence = re.sub(r'\\n',' ',sentence)\n",
    "    \n",
    "    #remove punctunations\n",
    "    sentence = re.sub(r'[^\\w\\s]',' ',sentence)\n",
    "    \n",
    "    #creating token object\n",
    "    tokens = spacy_nlp(sentence)\n",
    "    \n",
    "    #lower, strip and lemmatize\n",
    "    tokens = [word.lemma_.lower().strip() if word.lemma_ != \"-PRON-\" else word.lower_ for word in tokens]\n",
    "    \n",
    "    #remove stopwords, and exclude words less than 2 characters\n",
    "    tokens = [word for word in tokens if word not in stop_words and word not in punctuations and len(word) > 2]\n",
    "    \n",
    "    #return tokens\n",
    "    return tokens\n"
   ]
  },
  {
   "cell_type": "code",
   "execution_count": 4,
   "metadata": {
    "execution": {
     "iopub.execute_input": "2022-09-15T09:34:10.705238Z",
     "iopub.status.busy": "2022-09-15T09:34:10.704712Z",
     "iopub.status.idle": "2022-09-15T09:34:39.346031Z",
     "shell.execute_reply": "2022-09-15T09:34:39.344279Z",
     "shell.execute_reply.started": "2022-09-15T09:34:10.705186Z"
    }
   },
   "outputs": [
    {
     "name": "stdout",
     "output_type": "stream",
     "text": [
      "Cleaning and Tokenizing started now.....\n",
      "               uid                                      text  \\\n",
      "0  0103050P0AAAFAF                   Omeprazole_Cap E/C 10mg   \n",
      "1      20030100167                   Dressit Ster Dress Pack   \n",
      "2      20031700015  Flaminal Forte 15g Tube Wound Dress Prot   \n",
      "3  0101010G0AAABAB     Co-Magaldrox_Susp 195mg/220mg/5ml S/F   \n",
      "4  0101010N0AAAAAA          Antacid/Oxetacaine_Oral Susp S/F   \n",
      "\n",
      "                                wiki_tokenized  \n",
      "0                             [omeprazole_cap]  \n",
      "1                 [dressit, ster, dress, pack]  \n",
      "2  [flaminal, forte, tube, wound, dress, prot]  \n",
      "3                             [magaldrox_susp]  \n",
      "4             [antacid, oxetacaine_oral, susp]  \n",
      "Completed\n"
     ]
    }
   ],
   "source": [
    "print ('Cleaning and Tokenizing started now.....')\n",
    "#from nltk.tokenize\n",
    "df_drugs['wiki_tokenized'] = df_drugs['text'].map(lambda x: tokenizer_spacy(x))\n",
    "print(df_drugs.head())\n",
    "print ('Completed')\n",
    "#Store the tokenized column into a sepearte variable for ease of operations in subsequent sections\n",
    "drugs_plot = df_drugs['wiki_tokenized']"
   ]
  },
  {
   "cell_type": "markdown",
   "metadata": {},
   "source": [
    "##### Building Word Dictionary"
   ]
  },
  {
   "cell_type": "code",
   "execution_count": 5,
   "metadata": {
    "execution": {
     "iopub.execute_input": "2022-09-15T09:34:39.995859Z",
     "iopub.status.busy": "2022-09-15T09:34:39.995312Z",
     "iopub.status.idle": "2022-09-15T09:34:40.120810Z",
     "shell.execute_reply": "2022-09-15T09:34:40.119566Z",
     "shell.execute_reply.started": "2022-09-15T09:34:39.995698Z"
    }
   },
   "outputs": [],
   "source": [
    "#creating term dictionary\n",
    "dictionary = corpora.Dictionary(drugs_plot)"
   ]
  },
  {
   "cell_type": "code",
   "execution_count": 6,
   "metadata": {
    "execution": {
     "iopub.execute_input": "2022-09-15T09:34:40.122865Z",
     "iopub.status.busy": "2022-09-15T09:34:40.122230Z",
     "iopub.status.idle": "2022-09-15T09:34:40.155880Z",
     "shell.execute_reply": "2022-09-15T09:34:40.143314Z",
     "shell.execute_reply.started": "2022-09-15T09:34:40.122815Z"
    }
   },
   "outputs": [
    {
     "name": "stdout",
     "output_type": "stream",
     "text": [
      "[[['omeprazole_cap', 0], ['dress', 1], ['dressit', 2], ['pack', 3], ['ster', 4], ['flaminal', 5], ['forte', 6], ['prot', 7], ['tube', 8], ['wound', 9], ['magaldrox_susp', 10], ['antacid', 11], ['oxetacaine_oral', 12], ['susp', 13], ['simeticone_susp', 14], ['infacol_susp', 15], ['gppe', 16], ['liq_gaviscon', 17], ['algin', 18], ['bicarb_susp', 19], ['pot', 20], ['sod', 21], ['alginate', 22], ['bicarb_tab', 23], ['chble', 24], ['gastrocote_tab', 25], ['dual', 26], ['gaviscon', 27], ['infant_sach', 28], ['advance_liq', 29], ['aniseed', 30]]]\n"
     ]
    }
   ],
   "source": [
    "#print top 30 items from the dictionary with their unique token-id\n",
    "dict_tokens = [[[dictionary[key], dictionary.token2id[dictionary[key]]] for key, value in dictionary.items() if key <= 30]]\n",
    "print (dict_tokens)"
   ]
  },
  {
   "cell_type": "markdown",
   "metadata": {},
   "source": [
    "##### Feature Extraction (Bag of Words)"
   ]
  },
  {
   "cell_type": "code",
   "execution_count": 7,
   "metadata": {
    "execution": {
     "iopub.execute_input": "2022-09-15T09:34:40.159421Z",
     "iopub.status.busy": "2022-09-15T09:34:40.158673Z",
     "iopub.status.idle": "2022-09-15T09:34:40.333255Z",
     "shell.execute_reply": "2022-09-15T09:34:40.331933Z",
     "shell.execute_reply.started": "2022-09-15T09:34:40.159122Z"
    }
   },
   "outputs": [
    {
     "name": "stdout",
     "output_type": "stream",
     "text": [
      "[[('omeprazole_cap', 1)], [('dress', 1), ('dressit', 1), ('pack', 1), ('ster', 1)], [('dress', 1), ('flaminal', 1), ('forte', 1), ('prot', 1), ('tube', 1), ('wound', 1)]]\n"
     ]
    }
   ],
   "source": [
    "corpus = [dictionary.doc2bow(desc) for desc in drugs_plot]\n",
    "word_frequencies = [[(dictionary[id], frequency) for id, frequency in line] for line in corpus[0:3]]\n",
    "#vocabs\n",
    "#The above results shows vocabulary with their frequency.\n",
    "print(word_frequencies)"
   ]
  },
  {
   "cell_type": "markdown",
   "metadata": {},
   "source": [
    "### Build Tf-Idf and LSI Model\n",
    "\n",
    "Tf-Idf means, Term frequency-Inverse Document Frequency. it is a commonly used NLP model that helps you determine the most important words in each document in the corpus. Once the Tf-Idf is build, pass it to LSI model and specify the num of features to build"
   ]
  },
  {
   "cell_type": "code",
   "execution_count": 8,
   "metadata": {
    "execution": {
     "iopub.execute_input": "2022-09-15T09:34:40.335930Z",
     "iopub.status.busy": "2022-09-15T09:34:40.335263Z",
     "iopub.status.idle": "2022-09-15T09:34:42.146864Z",
     "shell.execute_reply": "2022-09-15T09:34:42.145651Z",
     "shell.execute_reply.started": "2022-09-15T09:34:40.335878Z"
    }
   },
   "outputs": [
    {
     "name": "stdout",
     "output_type": "stream",
     "text": [
      "MmCorpus(23585 documents, 10906 features, 76223 non-zero entries)\n",
      "MmCorpus(23585 documents, 300 features, 7070668 non-zero entries)\n"
     ]
    }
   ],
   "source": [
    "tfidf_drugs_model = gensim.models.TfidfModel(corpus, id2word=dictionary)\n",
    "lsi_drugs_model = gensim.models.LsiModel(tfidf_drugs_model[corpus], id2word=dictionary, num_topics=300)\n",
    "\n",
    "#Serialize and Store the corpus locally for easy retrival whenver required.\n",
    "gensim.corpora.MmCorpus.serialize('tfidf_drugs_model_s', tfidf_drugs_model[corpus])\n",
    "gensim.corpora.MmCorpus.serialize('lsi_drugs_model_s',lsi_drugs_model[tfidf_drugs_model[corpus]])\n",
    "corpus_tfidf_drugs = gensim.corpora.MmCorpus('tfidf_drugs_model_s')\n",
    "corpus_lsi_drugs = gensim.corpora.MmCorpus('lsi_drugs_model_s')\n",
    "print(corpus_tfidf_drugs)\n",
    "print(corpus_lsi_drugs)"
   ]
  },
  {
   "cell_type": "code",
   "execution_count": 9,
   "metadata": {
    "execution": {
     "iopub.execute_input": "2022-09-15T09:34:42.579035Z",
     "iopub.status.busy": "2022-09-15T09:34:42.578473Z",
     "iopub.status.idle": "2022-09-15T09:34:42.618686Z",
     "shell.execute_reply": "2022-09-15T09:34:42.616928Z",
     "shell.execute_reply.started": "2022-09-15T09:34:42.578988Z"
    }
   },
   "outputs": [],
   "source": [
    "drugs_i = MatrixSimilarity(corpus_lsi_drugs, num_features = corpus_lsi_drugs.num_terms)"
   ]
  },
  {
   "cell_type": "markdown",
   "metadata": {},
   "source": [
    "##### Search Function"
   ]
  },
  {
   "cell_type": "markdown",
   "metadata": {},
   "source": [
    "Below is the helper function to search the index, sort and return the results"
   ]
  },
  {
   "cell_type": "code",
   "execution_count": 10,
   "metadata": {
    "execution": {
     "iopub.execute_input": "2022-09-15T09:34:42.621975Z",
     "iopub.status.busy": "2022-09-15T09:34:42.621293Z",
     "iopub.status.idle": "2022-09-15T09:34:42.632808Z",
     "shell.execute_reply": "2022-09-15T09:34:42.631843Z",
     "shell.execute_reply.started": "2022-09-15T09:34:42.621926Z"
    }
   },
   "outputs": [],
   "source": [
    "def drugs_search_engine(search_term,relevence_result_number):\n",
    "    query_bow = dictionary.doc2bow(tokenizer_spacy(search_term))\n",
    "    query_tfidf = tfidf_drugs_model[query_bow]\n",
    "    query_lsi = lsi_drugs_model[query_tfidf]\n",
    "    drugs_i.num_best = relevence_result_number\n",
    "    drugs_list = drugs_i[query_lsi]\n",
    "    drugs_list.sort(key=itemgetter(1), reverse=True)\n",
    "    drugs_details = []\n",
    "    for j, d in enumerate(drugs_list):\n",
    "        drugs_details.append (\n",
    "            {\n",
    "                'UID': df_drugs['uid'][d[0]],\n",
    "                'Text': df_drugs['text'][d[0]],\n",
    "                'Relevance': round((d[1] * 100),2)\n",
    "            }\n",
    "        )\n",
    "        if j == (drugs_i.num_best-1):\n",
    "            break\n",
    "    return pd.DataFrame(drugs_details, columns=['UID','Text','Relevance'])"
   ]
  },
  {
   "cell_type": "code",
   "execution_count": 11,
   "metadata": {
    "execution": {
     "iopub.execute_input": "2022-09-15T09:34:42.690230Z",
     "iopub.status.busy": "2022-09-15T09:34:42.689369Z",
     "iopub.status.idle": "2022-09-15T09:34:42.715657Z",
     "shell.execute_reply": "2022-09-15T09:34:42.714459Z",
     "shell.execute_reply.started": "2022-09-15T09:34:42.690174Z"
    }
   },
   "outputs": [
    {
     "data": {
      "text/html": [
       "<div>\n",
       "<style scoped>\n",
       "    .dataframe tbody tr th:only-of-type {\n",
       "        vertical-align: middle;\n",
       "    }\n",
       "\n",
       "    .dataframe tbody tr th {\n",
       "        vertical-align: top;\n",
       "    }\n",
       "\n",
       "    .dataframe thead th {\n",
       "        text-align: right;\n",
       "    }\n",
       "</style>\n",
       "<table border=\"1\" class=\"dataframe\">\n",
       "  <thead>\n",
       "    <tr style=\"text-align: right;\">\n",
       "      <th></th>\n",
       "      <th>UID</th>\n",
       "      <th>Text</th>\n",
       "      <th>Relevance</th>\n",
       "    </tr>\n",
       "  </thead>\n",
       "  <tbody>\n",
       "    <tr>\n",
       "      <th>0</th>\n",
       "      <td>0101021B0AAAFAF</td>\n",
       "      <td>Gppe Tab_Topal Antacid</td>\n",
       "      <td>60.68</td>\n",
       "    </tr>\n",
       "    <tr>\n",
       "      <th>1</th>\n",
       "      <td>0106040N0AAADAD</td>\n",
       "      <td>Gppe Enem_Fleet Phos 133ml</td>\n",
       "      <td>59.76</td>\n",
       "    </tr>\n",
       "    <tr>\n",
       "      <th>2</th>\n",
       "      <td>130201000AABYBY</td>\n",
       "      <td>Gppe Shower Emollient_Dermol 200</td>\n",
       "      <td>59.59</td>\n",
       "    </tr>\n",
       "    <tr>\n",
       "      <th>3</th>\n",
       "      <td>0407010X0AAAYAY</td>\n",
       "      <td>Gppe Tab_Ultramol Solb</td>\n",
       "      <td>59.56</td>\n",
       "    </tr>\n",
       "    <tr>\n",
       "      <th>4</th>\n",
       "      <td>090502100AAAAAA</td>\n",
       "      <td>Gppe Tab_Phos-Sandoz</td>\n",
       "      <td>59.41</td>\n",
       "    </tr>\n",
       "    <tr>\n",
       "      <th>5</th>\n",
       "      <td>1302020E0AAALAL</td>\n",
       "      <td>Gppe Crm_Sudocrem Antis</td>\n",
       "      <td>59.32</td>\n",
       "    </tr>\n",
       "  </tbody>\n",
       "</table>\n",
       "</div>"
      ],
      "text/plain": [
       "               UID                              Text  Relevance\n",
       "0  0101021B0AAAFAF            Gppe Tab_Topal Antacid      60.68\n",
       "1  0106040N0AAADAD        Gppe Enem_Fleet Phos 133ml      59.76\n",
       "2  130201000AABYBY  Gppe Shower Emollient_Dermol 200      59.59\n",
       "3  0407010X0AAAYAY            Gppe Tab_Ultramol Solb      59.56\n",
       "4  090502100AAAAAA              Gppe Tab_Phos-Sandoz      59.41\n",
       "5  1302020E0AAALAL           Gppe Crm_Sudocrem Antis      59.32"
      ]
     },
     "execution_count": 11,
     "metadata": {},
     "output_type": "execute_result"
    }
   ],
   "source": [
    "drugs_search_engine('Antacid',6)"
   ]
  },
  {
   "cell_type": "code",
   "execution_count": 12,
   "metadata": {
    "execution": {
     "iopub.execute_input": "2022-09-15T09:52:19.394284Z",
     "iopub.status.busy": "2022-09-15T09:52:19.393632Z",
     "iopub.status.idle": "2022-09-15T09:52:19.433176Z",
     "shell.execute_reply": "2022-09-15T09:52:19.430852Z",
     "shell.execute_reply.started": "2022-09-15T09:52:19.394229Z"
    }
   },
   "outputs": [
    {
     "data": {
      "text/html": [
       "<div>\n",
       "<style scoped>\n",
       "    .dataframe tbody tr th:only-of-type {\n",
       "        vertical-align: middle;\n",
       "    }\n",
       "\n",
       "    .dataframe tbody tr th {\n",
       "        vertical-align: top;\n",
       "    }\n",
       "\n",
       "    .dataframe thead th {\n",
       "        text-align: right;\n",
       "    }\n",
       "</style>\n",
       "<table border=\"1\" class=\"dataframe\">\n",
       "  <thead>\n",
       "    <tr style=\"text-align: right;\">\n",
       "      <th></th>\n",
       "      <th>UID</th>\n",
       "      <th>Text</th>\n",
       "      <th>Relevance</th>\n",
       "    </tr>\n",
       "  </thead>\n",
       "  <tbody>\n",
       "    <tr>\n",
       "      <th>0</th>\n",
       "      <td>0101021B0AAAFAF</td>\n",
       "      <td>Gppe Tab_Topal Antacid</td>\n",
       "      <td>100.00</td>\n",
       "    </tr>\n",
       "    <tr>\n",
       "      <th>1</th>\n",
       "      <td>1303000J0AAABAB</td>\n",
       "      <td>Gppe Crm_Benadryl</td>\n",
       "      <td>99.98</td>\n",
       "    </tr>\n",
       "    <tr>\n",
       "      <th>2</th>\n",
       "      <td>1305020I0AAADAD</td>\n",
       "      <td>Gppe Crm_Alphosyl H.C.</td>\n",
       "      <td>99.98</td>\n",
       "    </tr>\n",
       "    <tr>\n",
       "      <th>3</th>\n",
       "      <td>090607000AAAXAX</td>\n",
       "      <td>Gppe Tab_Ketovite</td>\n",
       "      <td>99.98</td>\n",
       "    </tr>\n",
       "    <tr>\n",
       "      <th>4</th>\n",
       "      <td>1302011M0AAAEAE</td>\n",
       "      <td>Gppe Emollient_Emulsiderm</td>\n",
       "      <td>99.98</td>\n",
       "    </tr>\n",
       "    <tr>\n",
       "      <th>5</th>\n",
       "      <td>130201000AAA4A4</td>\n",
       "      <td>Gppe Crm_Diprobase</td>\n",
       "      <td>99.98</td>\n",
       "    </tr>\n",
       "    <tr>\n",
       "      <th>6</th>\n",
       "      <td>1302011L0AAACAC</td>\n",
       "      <td>Gppe Emollient_Diprobath</td>\n",
       "      <td>99.98</td>\n",
       "    </tr>\n",
       "  </tbody>\n",
       "</table>\n",
       "</div>"
      ],
      "text/plain": [
       "               UID                       Text  Relevance\n",
       "0  0101021B0AAAFAF     Gppe Tab_Topal Antacid     100.00\n",
       "1  1303000J0AAABAB          Gppe Crm_Benadryl      99.98\n",
       "2  1305020I0AAADAD     Gppe Crm_Alphosyl H.C.      99.98\n",
       "3  090607000AAAXAX          Gppe Tab_Ketovite      99.98\n",
       "4  1302011M0AAAEAE  Gppe Emollient_Emulsiderm      99.98\n",
       "5  130201000AAA4A4         Gppe Crm_Diprobase      99.98\n",
       "6  1302011L0AAACAC   Gppe Emollient_Diprobath      99.98"
      ]
     },
     "execution_count": 12,
     "metadata": {},
     "output_type": "execute_result"
    }
   ],
   "source": [
    "drugs_search_engine('Gppe Tab_Topal Antacid',7)"
   ]
  },
  {
   "cell_type": "code",
   "execution_count": 13,
   "metadata": {},
   "outputs": [],
   "source": [
    "app = FastAPI(\n",
    "    title=\"Search API\",\n",
    "    description=\"A simple API that would return the relevant search result\",\n",
    "    version=\"0.1\",\n",
    ")"
   ]
  },
  {
   "cell_type": "code",
   "execution_count": 14,
   "metadata": {},
   "outputs": [],
   "source": [
    "@app.get(\"/search\")\n",
    "def return_similar_drugs(search_string: str,relevence_result_number: int):\n",
    "    aaa=drugs_search_engine(search_string,relevence_result_number)\n",
    "    return aaa"
   ]
  },
  {
   "cell_type": "code",
   "execution_count": 15,
   "metadata": {},
   "outputs": [],
   "source": [
    "nest_asyncio.apply()"
   ]
  },
  {
   "cell_type": "code",
   "execution_count": null,
   "metadata": {},
   "outputs": [
    {
     "name": "stderr",
     "output_type": "stream",
     "text": [
      "INFO:     Started server process [22216]\n",
      "INFO:     Waiting for application startup.\n",
      "INFO:     Application startup complete.\n",
      "INFO:     Uvicorn running on http://127.0.0.1:8000 (Press CTRL+C to quit)\n"
     ]
    },
    {
     "name": "stdout",
     "output_type": "stream",
     "text": [
      "INFO:     127.0.0.1:61155 - \"GET /docs HTTP/1.1\" 200 OK\n",
      "INFO:     127.0.0.1:61155 - \"GET /openapi.json HTTP/1.1\" 200 OK\n",
      "INFO:     127.0.0.1:61158 - \"GET /search?search_string=Gppe%20Tab_Topal%20Antacid&relevence_result_number=6 HTTP/1.1\" 200 OK\n"
     ]
    }
   ],
   "source": [
    "if __name__ == \"__main__\":\n",
    "    uvicorn.run(app, host=\"127.0.0.1\", port=8000, debug=True)"
   ]
  },
  {
   "cell_type": "code",
   "execution_count": null,
   "metadata": {},
   "outputs": [],
   "source": []
  }
 ],
 "metadata": {
  "kernelspec": {
   "display_name": "Python 3",
   "language": "python",
   "name": "python3"
  },
  "language_info": {
   "codemirror_mode": {
    "name": "ipython",
    "version": 3
   },
   "file_extension": ".py",
   "mimetype": "text/x-python",
   "name": "python",
   "nbconvert_exporter": "python",
   "pygments_lexer": "ipython3",
   "version": "3.8.8"
  }
 },
 "nbformat": 4,
 "nbformat_minor": 4
}
